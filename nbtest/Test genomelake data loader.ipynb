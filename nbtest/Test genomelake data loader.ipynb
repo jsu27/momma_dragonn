{
 "cells": [
  {
   "cell_type": "code",
   "execution_count": 1,
   "metadata": {
    "collapsed": true
   },
   "outputs": [],
   "source": [
    "from __future__ import division, print_function"
   ]
  },
  {
   "cell_type": "code",
   "execution_count": 2,
   "metadata": {
    "collapsed": false
   },
   "outputs": [
    {
     "name": "stdout",
     "output_type": "stream",
     "text": [
      "/users/avanti/momma_dragonn/nbtest\r\n"
     ]
    }
   ],
   "source": [
    "!pwd"
   ]
  },
  {
   "cell_type": "code",
   "execution_count": 49,
   "metadata": {
    "collapsed": false
   },
   "outputs": [
    {
     "name": "stdout",
     "output_type": "stream",
     "text": [
      "Reading bed file /users/avanti/genomelake/examples/JUND.HepG2.chr22.101bp_intervals.tsv.gz into memory\n",
      "Finished reading bed file into memory\n",
      "(200, 101, 4) (200, 1)\n",
      "10.1075050831\n"
     ]
    }
   ],
   "source": [
    "import momma_dragonn.data_loaders.genomelake_data_loader\n",
    "reload(momma_dragonn.data_loaders)\n",
    "from momma_dragonn.data_loaders import genomelake_data_loader\n",
    "reload(genomelake_data_loader)\n",
    "\n",
    "the_data_loader = genomelake_data_loader.SingleStreamSeqOnly(\n",
    "    batch_size=100,\n",
    "    bed_source=\"/users/avanti/genomelake/examples/JUND.HepG2.chr22.101bp_intervals.tsv.gz\",\n",
    "    genomelake_data_source=\"/srv/scratch/genomelake_data/hg19.genome.fa\",\n",
    "    rc_augment=True,\n",
    "    num_to_load_for_eval=10000,\n",
    "    labels_dtype=\"int\"\n",
    ")\n",
    "\n",
    "batch_generator = the_data_loader.get_batch_generator()\n",
    "\n",
    "X, Y = batch_generator.next()\n",
    "print(X.shape, Y.shape)\n",
    "\n",
    "import time\n",
    "start = time.time()\n",
    "for i,(x,y) in enumerate(batch_generator):\n",
    "    if (i==1000):\n",
    "        end = time.time()\n",
    "        print(end-start)\n",
    "        break"
   ]
  },
  {
   "cell_type": "code",
   "execution_count": null,
   "metadata": {
    "collapsed": false
   },
   "outputs": [],
   "source": []
  }
 ],
 "metadata": {
  "kernelspec": {
   "display_name": "Python 2",
   "language": "python",
   "name": "python2"
  },
  "language_info": {
   "codemirror_mode": {
    "name": "ipython",
    "version": 2
   },
   "file_extension": ".py",
   "mimetype": "text/x-python",
   "name": "python",
   "nbconvert_exporter": "python",
   "pygments_lexer": "ipython2",
   "version": "2.7.13"
  }
 },
 "nbformat": 4,
 "nbformat_minor": 0
}
