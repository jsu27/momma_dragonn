{
 "cells": [
  {
   "cell_type": "code",
   "execution_count": 41,
   "metadata": {
    "collapsed": false
   },
   "outputs": [
    {
     "data": {
      "text/plain": [
       "<module 'momma_dragonn' from '/Users/avantishrikumar/Research/momma_dragonn/momma_dragonn/__init__.pyc'>"
      ]
     },
     "execution_count": 41,
     "metadata": {},
     "output_type": "execute_result"
    }
   ],
   "source": [
    "import simdna\n",
    "import simdna.synthetic as synthetic\n",
    "from avutils import util\n",
    "import numpy as np\n",
    "import momma_dragonn\n",
    "reload(momma_dragonn)"
   ]
  },
  {
   "cell_type": "code",
   "execution_count": 54,
   "metadata": {
    "collapsed": false
   },
   "outputs": [],
   "source": [
    "\n",
    "def generate_sequences_set(seq_length, num_seqs, motif_names, mean_motifs=1, min_motifs=0, max_motifs=2, zero_prob=0):\n",
    "    loadedMotifs = synthetic.LoadedEncodeMotifs(simdna.ENCODE_MOTIFS_PATH, pseudocountProb=0.001)\n",
    "    embedInBackground = synthetic.EmbedInABackground(\n",
    "        backgroundGenerator=synthetic.ZeroOrderBackgroundGenerator(seqLength=seq_length)\n",
    "        , embedders=[\n",
    "            synthetic.RepeatedEmbedder(\n",
    "            synthetic.SubstringEmbedder(\n",
    "                #synthetic.ReverseComplementWrapper(\n",
    "                substringGenerator=synthetic.PwmSamplerFromLoadedMotifs(\n",
    "                    loadedMotifs=loadedMotifs,motifName=motifName)\n",
    "                #),\n",
    "                ,positionGenerator=synthetic.UniformPositionGenerator()),\n",
    "            quantityGenerator=synthetic.ZeroInflater(synthetic.MinMaxWrapper(\n",
    "                synthetic.PoissonQuantityGenerator(mean_motifs),\n",
    "                theMax=max_motifs, theMin=min_motifs), zeroProb=zero_prob)\n",
    "            )\n",
    "            for motifName in motif_names\n",
    "        ]\n",
    "    )\n",
    "    sequenceSetGenerator = synthetic.GenerateSequenceNTimes(embedInBackground, num_seqs)\n",
    "    return sequenceSetGenerator\n",
    "\n",
    "def one_hot_encode_sequences_set(sequence_set_generator):\n",
    "    one_hot_encoded_sequences = []\n",
    "    for sequence in sequence_set_generator.generateSequences():\n",
    "        one_hot_encoded_sequences.append(avutils.util.seq_to_2d_image(sequence.seq))\n",
    "    return np.array(one_hot_encoded_sequences)\n",
    "\n",
    "seq_length=200"
   ]
  },
  {
   "cell_type": "code",
   "execution_count": 55,
   "metadata": {
    "collapsed": false
   },
   "outputs": [],
   "source": [
    "one_hot_data_train = one_hot_encode_sequences_set(\n",
    "                generate_sequences_set(\n",
    "                    seq_length=seq_length, num_seqs=5000, motif_names=[\"CTCF_known1\"]))"
   ]
  },
  {
   "cell_type": "code",
   "execution_count": 56,
   "metadata": {
    "collapsed": false
   },
   "outputs": [],
   "source": [
    "one_hot_data_valid = one_hot_encode_sequences_set(\n",
    "                        generate_sequences_set(\n",
    "                        seq_length=seq_length, num_seqs=1000, motif_names=[\"CTCF_known1\"]))"
   ]
  },
  {
   "cell_type": "code",
   "execution_count": 53,
   "metadata": {
    "collapsed": false
   },
   "outputs": [],
   "source": [
    "import momma_dragonn\n",
    "reload(momma_dragonn)\n",
    "reload(momma_dragonn.data_loaders)\n",
    "reload(momma_dragonn.data_loaders.core)\n",
    "\n",
    "def model_creator_func():\n",
    "    filter_width=20\n",
    "    maxpool_filter_width=seq_length-(filter_width-1) #pool over entire region for now\n",
    "    \n",
    "    from keras.models import Graph\n",
    "    graph = Graph() \n",
    "    graph.add_input(name=\"sequence\", input_shape=(1,4,seq_length))\n",
    "    #add convolutional layer\n",
    "    graph.add_node(\n",
    "        keras.layers.convolutional.Convolution2D(nb_filter=5, nb_row=4, nb_col=filter_width)\n",
    "        name=\"conv\", input=\"sequence\")\n",
    "    #add maxpool filter layer\n",
    "    graph.add_node(\n",
    "        keras.layers.convolutional.MaxPoolFilter2D(pool_size=(1,maxpool_filter_width), pool_stride=(1,1))\n",
    "        name=\"filt\", input=\"conv\")\n",
    "    #add a padding layer so deconv will be the right size\n",
    "    graph.add_node(\n",
    "        keras.layers.convolutional.ZeroPadding2D(padding=(0,(filter_width-1)*2)),\n",
    "        name=\"padding\", input=\"filt\")\n",
    "    #add a deconv layer to reconstruct the input\n",
    "    graph.add_node(\n",
    "        keras.layers.convolutional.Convolution2D(\n",
    "            nb_filter=4, nb_row=1, nb_col=filter_width,\n",
    "            W_constraint=keras.constraints.MaxNorm(m=10)),\n",
    "        name=\"deconv\", input=\"padding\")\n",
    "    #transpose to make the deconv axis the row axis\n",
    "    graph.add_node(\n",
    "        keras.layers.convolutional.ExchangeChannelsAndRows(),\n",
    "        name=\"swapaxes\", input=\"deconv\")\n",
    "    #softmax across rows\n",
    "    graph.add_node(\n",
    "        keras.layers.convolutional.SoftmaxAcrossRows(),\n",
    "        name=\"output_softmax\", input=\"swapaxes\")\n",
    "    #designate output node\n",
    "    graph.add_output(name=\"output\", input=\"output_softmax\")\n",
    "    #compile\n",
    "    graph.compile(\n",
    "        optimizer=keras.optimizers.Adam(),\n",
    "        loss={\"output\": \"one_hot_from_logits_categorical_cross_entropy\"}\n",
    "    )\n",
    "    return graph\n",
    "#model creator\n",
    "model_creator = momma_dragonn.model_creators.flexible_keras.KerasModelFromFunc(\n",
    "    func=model_creator_func,\n",
    "    model_wrapper_class=momma_dragonn.model_wrappers.keras_model_wrappers.KerasGraphModelWrapper)    \n",
    "\n",
    "#data loaders\n",
    "train_data_loader = momma_dragonn.data_loaders.core.AtOnceDataLoader_XYDictAPI(\n",
    "                        X={'sequence': one_hot_data_train}, Y={'output': one_hot_data_train})\n",
    "valid_data_loader = momma_dragonn.data_loaders.core.AtOnceDataLoader_XYDictAPI(\n",
    "                        X={'sequence': one_hot_data_valid}, Y={'output': one_hot_data_valid})\n",
    "#model evaluator\n",
    "model_evaluator = momma_dragonn.model_evaluators.GraphAccuracyStats(\n",
    "    key_metric=\"onehot_rows_crossent\", all_metrics=[\"onehot_rows_crossent\"])\n",
    "\n",
    "#stopping criterion\n",
    "stopping_criterion_config = {\"class\": \"EarlyStopping\", \"kwargs\": {\"max_epochs\": 300, \"epochs_to_wait\": 10}}\n",
    "\n",
    "#callbacks\n",
    "end_of_epoch_callbacks = [momma_dragonn.end_of_epoch_callbacks.PrintPerfAfterEpoch(print_trend=True)]\n",
    "\n",
    "#trainer\n",
    "trainer = momma_dragonn.model_trainers.keras_model_trainer.KerasFitGeneratorModelTrainer(\n",
    "    samples_per_epoch=3000, stopping_criterion_config=stopping_criterion_config)\n",
    "\n",
    "#train model\n",
    "trainer.train(model_wrapper=model_creator.get_model_wrapper(),\n",
    "              model_evaluator=model_evaluator,\n",
    "              valid_data_loader=valid_data_loader,\n",
    "              other_data_loaders={'train': train_data_loader},\n",
    "              end_of_epoch_callbacks=end_of_epoch_callbacks)"
   ]
  },
  {
   "cell_type": "code",
   "execution_count": null,
   "metadata": {
    "collapsed": true
   },
   "outputs": [],
   "source": []
  }
 ],
 "metadata": {
  "kernelspec": {
   "display_name": "Python 2",
   "language": "python",
   "name": "python2"
  },
  "language_info": {
   "codemirror_mode": {
    "name": "ipython",
    "version": 2
   },
   "file_extension": ".py",
   "mimetype": "text/x-python",
   "name": "python",
   "nbconvert_exporter": "python",
   "pygments_lexer": "ipython2",
   "version": "2.7.12"
  }
 },
 "nbformat": 4,
 "nbformat_minor": 0
}
