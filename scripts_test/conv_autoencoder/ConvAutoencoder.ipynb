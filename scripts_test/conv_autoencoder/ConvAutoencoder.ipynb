{
 "cells": [
  {
   "cell_type": "code",
   "execution_count": null,
   "metadata": {
    "collapsed": false
   },
   "outputs": [],
   "source": [
    "import simdna\n",
    "import simdna.synthetic as synthetic\n",
    "import avutils\n",
    "from avutils import util\n",
    "reload(util)\n",
    "import numpy as np\n",
    "import momma_dragonn\n",
    "reload(momma_dragonn)\n",
    "import keras"
   ]
  },
  {
   "cell_type": "code",
   "execution_count": null,
   "metadata": {
    "collapsed": false
   },
   "outputs": [],
   "source": [
    "def generate_sequences_set(seq_length, num_seqs, motif_names):\n",
    "    loadedMotifs = synthetic.LoadedEncodeMotifs(simdna.ENCODE_MOTIFS_PATH, pseudocountProb=0.001)\n",
    "    embedInBackground = synthetic.EmbedInABackground(\n",
    "        backgroundGenerator=synthetic.ZeroOrderBackgroundGenerator(seqLength=seq_length)\n",
    "        , embedders=[\n",
    "            synthetic.RepeatedEmbedder(\n",
    "            synthetic.SubstringEmbedder(\n",
    "                #synthetic.ReverseComplementWrapper(\n",
    "                substringGenerator=synthetic.PwmSamplerFromLoadedMotifs(\n",
    "                    loadedMotifs=loadedMotifs,motifName=motifName)\n",
    "                #),\n",
    "                ,positionGenerator=synthetic.UniformPositionGenerator()),\n",
    "            quantityGenerator=#synthetic.FixedQuantityGenerator(1)\n",
    "                synthetic.ZeroInflater(synthetic.MinMaxWrapper(\n",
    "                synthetic.PoissonQuantityGenerator(1),\n",
    "                theMax=1, theMin=0), zeroProb=0.0)\n",
    "            )\n",
    "            for motifName in motif_names\n",
    "        ]\n",
    "    )\n",
    "    sequenceSetGenerator = synthetic.GenerateSequenceNTimes(embedInBackground, num_seqs)\n",
    "    return sequenceSetGenerator\n",
    "\n",
    "def one_hot_encode_sequences_set(sequence_set_generator):\n",
    "    one_hot_encoded_sequences = []\n",
    "    for sequence in sequence_set_generator.generateSequences():\n",
    "        one_hot_encoded_sequences.append(avutils.util.seq_to_2d_image(sequence.seq))\n",
    "    return np.array(one_hot_encoded_sequences)\n",
    "\n",
    "seq_length=200\n",
    "\n",
    "\n",
    "motif_names = [\"CTCF_known1\", \"IRF_known1\", \"GATA_disc1\"]\n",
    "\n",
    "num_train_samples = 20000\n",
    "\n",
    "one_hot_data_train_pos, one_hot_data_train_neg =\\\n",
    " [one_hot_encode_sequences_set(generate_sequences_set(seq_length=seq_length, num_seqs=num_train_samples, motif_names=names))\n",
    "  for names in [motif_names, []]]\n",
    "one_hot_data_train_inputs = np.concatenate([one_hot_data_train_pos, one_hot_data_train_neg], axis=0)\n",
    "one_hot_data_train_labels = np.concatenate([one_hot_data_train_pos, -one_hot_data_train_neg], axis=0)\n",
    "util.shuffle_arrays([one_hot_data_train_inputs, one_hot_data_train_labels], copy_on_shuffle=True)"
   ]
  },
  {
   "cell_type": "code",
   "execution_count": null,
   "metadata": {
    "collapsed": false,
    "scrolled": false
   },
   "outputs": [],
   "source": [
    "reload(util)\n",
    "one_hot_data_valid_pos, one_hot_data_valid_neg =\\\n",
    " [one_hot_encode_sequences_set(generate_sequences_set(seq_length=seq_length, num_seqs=1000, motif_names=names))\n",
    "  for names in [motif_names, []]]\n",
    "one_hot_data_valid_inputs = np.concatenate([one_hot_data_valid_pos, one_hot_data_valid_neg], axis=0)\n",
    "one_hot_data_valid_labels = np.concatenate([one_hot_data_valid_pos, -one_hot_data_valid_neg], axis=0)\n",
    "util.shuffle_arrays([one_hot_data_valid_inputs, one_hot_data_valid_labels], copy_on_shuffle=True)"
   ]
  },
  {
   "cell_type": "code",
   "execution_count": null,
   "metadata": {
    "collapsed": false,
    "scrolled": false
   },
   "outputs": [],
   "source": [
    "import keras\n",
    "reload(keras)\n",
    "import keras.objectives\n",
    "reload(keras.objectives)\n",
    "from keras import backend\n",
    "reload(backend)\n",
    "import keras.layers.convolutional\n",
    "reload(keras.layers.convolutional)\n",
    "import momma_dragonn\n",
    "reload(momma_dragonn)\n",
    "reload(momma_dragonn.end_of_epoch_callbacks)\n",
    "reload(momma_dragonn.data_loaders)\n",
    "reload(momma_dragonn.model_evaluators)\n",
    "reload(momma_dragonn.model_trainers.keras_model_trainer)\n",
    "reload(momma_dragonn.data_loaders.core)\n",
    "\n",
    "def model_creator_func(nb_filter):\n",
    "    filter_width=20\n",
    "    #maxpool_filter_width=seq_length-(filter_width-1) #pool over entire region for now\n",
    "    maxpool_filter_width=20\n",
    "    \n",
    "    from keras.models import Graph\n",
    "    graph = Graph() \n",
    "    graph.add_input(name=\"sequence\", input_shape=(1,4,seq_length))\n",
    "    #add convolutional layer\n",
    "    graph.add_node(\n",
    "        keras.layers.convolutional.Convolution2D(nb_filter=nb_filter, nb_row=4, nb_col=filter_width),\n",
    "        name=\"conv\", input=\"sequence\")\n",
    "    #add maxpool filter layer\n",
    "    graph.add_node(\n",
    "        keras.layers.convolutional.MaxPoolFilter2D_CenteredPool(pool_size=(1,maxpool_filter_width)),\n",
    "        #keras.layers.convolutional.MaxPoolFilter2D_NonOverlapStrides(pool_size=(1,maxpool_filter_width)),\n",
    "        name=\"filt\", input=\"conv\")\n",
    "    #add a padding layer so deconv will be the right size\n",
    "    graph.add_node(\n",
    "        keras.layers.convolutional.ZeroPadding2D(padding=(0,filter_width-1)),\n",
    "        name=\"padding\", input=\"filt\")\n",
    "    #add a deconv layer to reconstruct the input\n",
    "    graph.add_node(\n",
    "        keras.layers.convolutional.Convolution2D(\n",
    "            nb_filter=4, nb_row=1, nb_col=filter_width,\n",
    "            W_constraint=keras.constraints.MaxNorm(m=10)),\n",
    "        name=\"deconv\", input=\"padding\")\n",
    "    #transpose to make the deconv axis the row axis\n",
    "    graph.add_node(\n",
    "        keras.layers.convolutional.ExchangeChannelsAndRows(),\n",
    "        name=\"swapaxes\", input=\"deconv\")\n",
    "    #softmax across rows\n",
    "    graph.add_node(\n",
    "        keras.layers.convolutional.SoftmaxAcrossRows(),\n",
    "        name=\"output_softmax\", input=\"swapaxes\")\n",
    "    #designate output node\n",
    "    graph.add_output(name=\"output\", input=\"output_softmax\")\n",
    "    #compile\n",
    "    graph.compile(\n",
    "        optimizer=keras.optimizers.Adam(),\n",
    "        loss={\"output\": \"one_hot_rows_categorical_cross_entropy\"}\n",
    "    )\n",
    "    return graph\n",
    "\n",
    "#model creator\n",
    "model_creator = momma_dragonn.model_creators.flexible_keras.KerasModelFromFunc(\n",
    "    func=lambda: model_creator_func(20*len(motif_names)),\n",
    "    model_wrapper_class=momma_dragonn.model_wrappers.keras_model_wrappers.KerasGraphModelWrapper)    \n",
    "\n",
    "#data loaders\n",
    "train_data_loader = momma_dragonn.data_loaders.core.BatchDataLoader_XYDictAPI(\n",
    "                        X={'sequence': one_hot_data_train_inputs}, Y={'output': one_hot_data_train_labels},\n",
    "                        weight={}, batch_size=200, num_to_load_for_eval=num_train_samples, bundle_x_and_y_in_generator=True)\n",
    "valid_data_loader = momma_dragonn.data_loaders.core.AtOnceDataLoader_XYDictAPI(\n",
    "                        X={'sequence': one_hot_data_valid_inputs}, Y={'output': one_hot_data_valid_labels})\n",
    "#model evaluator\n",
    "model_evaluator = momma_dragonn.model_evaluators.GraphAccuracyStats(\n",
    "    key_metric=\"onehot_rows_crossent\", all_metrics=[\"onehot_rows_crossent\"])\n",
    "\n",
    "#stopping criterion\n",
    "stopping_criterion_config = {\"class\": \"EarlyStopping\", \"kwargs\": {\"max_epochs\": 300, \"epochs_to_wait\": 3}}\n",
    "\n",
    "#callbacks\n",
    "end_of_epoch_callbacks = []#momma_dragonn.end_of_epoch_callbacks.PrintPerfAfterEpoch(print_trend=True)]\n",
    "\n",
    "#trainer\n",
    "trainer = momma_dragonn.model_trainers.keras_model_trainer.KerasFitGeneratorModelTrainer(\n",
    "    samples_per_epoch=num_train_samples, stopping_criterion_config=stopping_criterion_config)\n",
    "\n",
    "#train model\n",
    "model_wrapper, performance_history, training_metadata = trainer.train(model_wrapper=model_creator.get_model_wrapper(),\n",
    "                                                          model_evaluator=model_evaluator,\n",
    "                                                          valid_data_loader=valid_data_loader,\n",
    "                                                          other_data_loaders={'train': train_data_loader},\n",
    "                                                          end_of_epoch_callbacks=end_of_epoch_callbacks)"
   ]
  },
  {
   "cell_type": "code",
   "execution_count": 1,
   "metadata": {
    "collapsed": true
   },
   "outputs": [],
   "source": [
    "file_prefix=\"twohundredbpseq_3motifs_50pcchance_centeredpool\""
   ]
  },
  {
   "cell_type": "code",
   "execution_count": null,
   "metadata": {
    "collapsed": true
   },
   "outputs": [],
   "source": [
    "model_wrapper.create_files_to_save(directory=\".\", prefix=file_prefix)"
   ]
  },
  {
   "cell_type": "code",
   "execution_count": 2,
   "metadata": {
    "collapsed": false
   },
   "outputs": [
    {
     "name": "stderr",
     "output_type": "stream",
     "text": [
      "Using Theano backend.\n",
      "Using gpu device 0: GeForce GT 750M (CNMeM is disabled, cuDNN 5005)\n",
      "/Users/avantishrikumar/anaconda/lib/python2.7/site-packages/theano/tensor/signal/downsample.py:6: UserWarning: downsample module has been moved to the theano.tensor.signal.pool module.\n",
      "  \"downsample module has been moved to the theano.tensor.signal.pool module.\")\n"
     ]
    }
   ],
   "source": [
    "from keras.models import model_from_yaml                                    \n",
    "model = model_from_yaml(open(file_prefix+\"_modelYaml.yaml\").read())\n",
    "model.load_weights(file_prefix+\"_modelWeights.h5\")"
   ]
  },
  {
   "cell_type": "code",
   "execution_count": 3,
   "metadata": {
    "collapsed": false
   },
   "outputs": [],
   "source": [
    "deconv_weights, deconv_biases = model.nodes['deconv'].get_weights()"
   ]
  },
  {
   "cell_type": "code",
   "execution_count": 4,
   "metadata": {
    "collapsed": false
   },
   "outputs": [
    {
     "data": {
      "text/plain": [
       "array([[[[ 1.64436805,  1.43902874,  1.39167547, ...,  1.08905792,\n",
       "           0.7203052 ,  0.6786744 ]],\n",
       "\n",
       "        [[ 0.67296028,  0.28336164,  1.08435118, ...,  0.47243041,\n",
       "           0.32687724,  0.86565262]],\n",
       "\n",
       "        [[-2.02874017, -1.71229529, -1.62211907, ..., -0.49180073,\n",
       "          -0.5963093 , -0.47461241]],\n",
       "\n",
       "        ..., \n",
       "        [[ 0.7144652 ,  1.24396169,  1.06769347, ...,  0.62082899,\n",
       "           1.40083122,  1.38282824]],\n",
       "\n",
       "        [[ 0.5726794 ,  0.64030915,  0.31980035, ...,  0.90434176,\n",
       "           0.86987448,  1.23142123]],\n",
       "\n",
       "        [[ 1.24721742, -0.00546391,  0.91923374, ...,  1.42352414,\n",
       "           1.00433457,  0.97501218]]],\n",
       "\n",
       "\n",
       "       [[[-1.14137864, -1.14972091, -1.09991622, ..., -0.54313135,\n",
       "          -0.13502759, -0.61139762]],\n",
       "\n",
       "        [[-0.54975289, -0.40143117, -0.62494916, ..., -0.47975978,\n",
       "          -0.58545816, -0.01525566]],\n",
       "\n",
       "        [[ 1.37923717,  1.30462456,  1.19325984, ...,  0.31496641,\n",
       "           0.28718817,  0.34297657]],\n",
       "\n",
       "        ..., \n",
       "        [[-0.34561983, -1.07577157, -0.81685442, ..., -0.50671351,\n",
       "          -0.99601209, -0.94279933]],\n",
       "\n",
       "        [[-0.83835489, -0.58967566, -0.49538755, ..., -0.33028364,\n",
       "          -0.64716154, -0.74882698]],\n",
       "\n",
       "        [[-1.23464847,  0.29531032, -1.07107651, ..., -1.01130974,\n",
       "          -0.7214244 , -0.72105587]]],\n",
       "\n",
       "\n",
       "       [[[-0.70866734, -1.20674396, -0.79056209, ..., -1.07771182,\n",
       "          -0.63101912, -0.37003258]],\n",
       "\n",
       "        [[-0.30738601, -0.45619762, -0.96036977, ..., -0.0833838 ,\n",
       "           0.82688004, -0.47818318]],\n",
       "\n",
       "        [[ 1.39907515,  1.08759987,  1.03117323, ...,  0.4616541 ,\n",
       "           0.24911246,  0.31834736]],\n",
       "\n",
       "        ..., \n",
       "        [[-0.29148671,  0.05340456, -0.94875968, ..., -0.57156122,\n",
       "          -1.07180607, -0.58535612]],\n",
       "\n",
       "        [[-1.69566596, -0.14800724, -1.21417415, ..., -0.87889951,\n",
       "          -0.73424309, -1.22235346]],\n",
       "\n",
       "        [[-2.32710004, -2.31691003,  0.00977252, ..., -0.88758409,\n",
       "          -0.82232118, -0.9780491 ]]],\n",
       "\n",
       "\n",
       "       [[[-1.34825277, -0.61304563, -0.95937407, ..., -0.73482305,\n",
       "          -0.39389318, -0.10181729]],\n",
       "\n",
       "        [[-0.64209932,  0.41582611, -0.65894562, ..., -0.08999324,\n",
       "          -0.48488271, -0.90028882]],\n",
       "\n",
       "        [[ 1.39032686,  1.21468413,  1.2239455 , ...,  0.26273775,\n",
       "           0.47696894,  0.39005029]],\n",
       "\n",
       "        ..., \n",
       "        [[-0.50073773, -1.14354968, -0.39735636, ..., -0.14940114,\n",
       "          -0.74476129, -1.07976055]],\n",
       "\n",
       "        [[ 0.10700686, -0.65497816,  0.27371764, ..., -0.92905295,\n",
       "          -0.49322921, -0.66069591]],\n",
       "\n",
       "        [[-0.03466057,  0.0983192 , -1.56622767, ..., -1.20764971,\n",
       "          -0.70897603, -0.6332444 ]]]], dtype=float32)"
      ]
     },
     "execution_count": 4,
     "metadata": {},
     "output_type": "execute_result"
    }
   ],
   "source": [
    "deconv_weights"
   ]
  },
  {
   "cell_type": "code",
   "execution_count": 5,
   "metadata": {
    "collapsed": false
   },
   "outputs": [
    {
     "data": {
      "text/plain": [
       "array([ 1.98738754, -1.90291011, -1.1131053 , -2.54785991], dtype=float32)"
      ]
     },
     "execution_count": 5,
     "metadata": {},
     "output_type": "execute_result"
    }
   ],
   "source": [
    "deconv_biases"
   ]
  },
  {
   "cell_type": "code",
   "execution_count": 6,
   "metadata": {
    "collapsed": false
   },
   "outputs": [
    {
     "data": {
      "text/plain": [
       "<module 'deepLIFTutils' from '/Users/avantishrikumar/Research/Enhancer_Prediction/enhancer_prediction_code/featureSelector/deepLIFFT/deepLIFTutils.pyc'>"
      ]
     },
     "execution_count": 6,
     "metadata": {},
     "output_type": "execute_result"
    }
   ],
   "source": [
    "#import deepLIFT stuff\n",
    "import os, sys\n",
    "import numpy as np\n",
    "scriptsDir = os.environ.get(\"ENHANCER_SCRIPTS_DIR\");\n",
    "if (scriptsDir is None):\n",
    "    raise Exception(\"Please set environment variable ENHANCER_SCRIPTS_DIR to point to enhancer_prediction_code\");\n",
    "sys.path.insert(0,scriptsDir+\"/featureSelector/deepLIFFT/\");\n",
    "import criticalSubsetIdentification as csi\n",
    "import deepLIFTutils\n",
    "reload(deepLIFTutils)"
   ]
  },
  {
   "cell_type": "code",
   "execution_count": 7,
   "metadata": {
    "collapsed": false
   },
   "outputs": [
    {
     "name": "stdout",
     "output_type": "stream",
     "text": [
      "(60, 1, 4, 20)\n",
      "[(3, array([ 10.2397213], dtype=float32)), (20, array([ 9.47280407], dtype=float32)), (10, array([ 8.93774223], dtype=float32)), (17, array([ 8.79210472], dtype=float32)), (26, array([ 8.61362457], dtype=float32)), (7, array([ 8.3150053], dtype=float32)), (0, array([ 8.22377777], dtype=float32)), (59, array([ 8.11780071], dtype=float32)), (25, array([ 7.73480701], dtype=float32)), (22, array([ 7.49399996], dtype=float32)), (55, array([ 7.44176292], dtype=float32)), (12, array([ 7.40381241], dtype=float32)), (30, array([ 7.33690977], dtype=float32)), (40, array([ 7.26463032], dtype=float32)), (23, array([ 7.21216297], dtype=float32)), (32, array([ 6.97490311], dtype=float32)), (37, array([ 6.90068531], dtype=float32)), (2, array([ 6.86307907], dtype=float32)), (16, array([ 6.74383831], dtype=float32)), (45, array([ 6.68700027], dtype=float32)), (9, array([ 6.63256645], dtype=float32)), (14, array([ 6.49044514], dtype=float32)), (6, array([ 6.36226511], dtype=float32)), (34, array([ 6.18198442], dtype=float32)), (29, array([ 6.0970459], dtype=float32)), (50, array([ 6.09458876], dtype=float32)), (47, array([ 6.01726151], dtype=float32)), (18, array([ 5.97776461], dtype=float32)), (51, array([ 5.88655806], dtype=float32)), (4, array([ 5.86709881], dtype=float32)), (44, array([ 5.82188463], dtype=float32)), (42, array([ 5.81137848], dtype=float32)), (21, array([ 5.70978022], dtype=float32)), (52, array([ 5.69640779], dtype=float32)), (33, array([ 5.59416866], dtype=float32)), (1, array([ 5.58802366], dtype=float32)), (11, array([ 5.56915665], dtype=float32)), (58, array([ 5.50826693], dtype=float32)), (24, array([ 5.50082493], dtype=float32)), (31, array([ 5.48444891], dtype=float32)), (36, array([ 5.45922565], dtype=float32)), (53, array([ 5.31964874], dtype=float32)), (39, array([ 5.24045277], dtype=float32)), (48, array([ 5.22157383], dtype=float32)), (5, array([ 5.19433737], dtype=float32)), (49, array([ 5.1675477], dtype=float32)), (57, array([ 5.12625122], dtype=float32)), (46, array([ 5.10779762], dtype=float32)), (15, array([ 5.09070587], dtype=float32)), (28, array([ 5.06317377], dtype=float32)), (8, array([ 5.01029873], dtype=float32)), (38, array([ 4.95018721], dtype=float32)), (35, array([ 4.86237335], dtype=float32)), (41, array([ 4.54308653], dtype=float32)), (19, array([ 4.50506306], dtype=float32)), (56, array([ 4.20944166], dtype=float32)), (43, array([ 4.19817924], dtype=float32)), (13, array([ 4.11939001], dtype=float32)), (27, array([ 3.77792263], dtype=float32)), (54, array([ 3.13395643], dtype=float32))]\n"
     ]
    }
   ],
   "source": [
    "weights = np.transpose(deconv_weights,(1,2,0,3))\n",
    "weights = weights[:,:,:,::-1]\n",
    "print(weights.shape)\n",
    "filterScores = np.sum((np.max(weights,axis=-1)-np.min(weights,axis=-1)),axis=-1)\n",
    "sortedFilters = sorted(enumerate(filterScores), key=lambda x: -x[1])\n",
    "print(sortedFilters)"
   ]
  },
  {
   "cell_type": "code",
   "execution_count": null,
   "metadata": {
    "collapsed": false
   },
   "outputs": [],
   "source": []
  },
  {
   "cell_type": "code",
   "execution_count": null,
   "metadata": {
    "collapsed": true
   },
   "outputs": [],
   "source": [
    "deepLIFTutils.printConvolution(weights, np.zeros(len(weights)), 3, addToTitle=\"\", printBias=False, figSize=None, outputFile=None)"
   ]
  },
  {
   "cell_type": "code",
   "execution_count": null,
   "metadata": {
    "collapsed": true
   },
   "outputs": [],
   "source": [
    "deepLIFTutils.plotPositiveAndNegativeOutlierFilters(sortedFilters=sortedFilters\n",
    "                                                    , numPositiveOutliers=5\n",
    "                                                    , numNegativeOutliers=1\n",
    "                                                    , weights=weights\n",
    "                                                    , biases=np.zeros(len(weights))\n",
    "                                                    , printBias=False\n",
    "                                                    , figSize=(10,2))"
   ]
  }
 ],
 "metadata": {
  "kernelspec": {
   "display_name": "Python 2",
   "language": "python",
   "name": "python2"
  },
  "language_info": {
   "codemirror_mode": {
    "name": "ipython",
    "version": 2
   },
   "file_extension": ".py",
   "mimetype": "text/x-python",
   "name": "python",
   "nbconvert_exporter": "python",
   "pygments_lexer": "ipython2",
   "version": "2.7.12"
  }
 },
 "nbformat": 4,
 "nbformat_minor": 0
}
